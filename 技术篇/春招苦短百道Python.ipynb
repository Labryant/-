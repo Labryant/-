{
 "cells": [
  {
   "cell_type": "code",
   "execution_count": 1,
   "metadata": {
    "collapsed": true
   },
   "outputs": [
    {
     "ename": "NameError",
     "evalue": "name 'getlines' is not defined",
     "traceback": [
      "\u001b[1;31m---------------------------------------------------------------------------\u001b[0m",
      "\u001b[1;31mNameError\u001b[0m                                 Traceback (most recent call last)",
      "\u001b[1;32m<ipython-input-1-0a796b4dcde7>\u001b[0m in \u001b[0;36m<module>\u001b[1;34m()\u001b[0m\n\u001b[0;32m      7\u001b[0m \u001b[1;33m\u001b[0m\u001b[0m\n\u001b[0;32m      8\u001b[0m \u001b[1;32mif\u001b[0m \u001b[0m__name__\u001b[0m \u001b[1;33m==\u001b[0m\u001b[1;34m\"__main__\"\u001b[0m\u001b[1;33m:\u001b[0m\u001b[1;33m\u001b[0m\u001b[0m\n\u001b[1;32m----> 9\u001b[1;33m     \u001b[1;32mfor\u001b[0m \u001b[0me\u001b[0m \u001b[1;32min\u001b[0m \u001b[0mgetlines\u001b[0m\u001b[1;33m(\u001b[0m\u001b[1;33m)\u001b[0m\u001b[1;33m:\u001b[0m\u001b[1;33m\u001b[0m\u001b[0m\n\u001b[0m\u001b[0;32m     10\u001b[0m         \u001b[0mprocess\u001b[0m\u001b[1;33m(\u001b[0m\u001b[0me\u001b[0m\u001b[1;33m)\u001b[0m\u001b[1;33m\u001b[0m\u001b[0m\n",
      "\u001b[1;31mNameError\u001b[0m: name 'getlines' is not defined"
     ],
     "output_type": "error"
    }
   ],
   "source": [
    "def get_lines():\n",
    "    l =[]\n",
    "    with open(\"file.txt\",\"rb\") as f:\n",
    "        for eachline in f:\n",
    "            l.append(eachline)\n",
    "        return lr\n",
    "\n",
    "if __name__ ==\"__main__\":\n",
    "    for e in get_lines():\n",
    "        process(e)"
   ]
  },
  {
   "cell_type": "code",
   "execution_count": null,
   "metadata": {
    "collapsed": true
   },
   "outputs": [],
   "source": [
    "#文件变为10G，需要考虑的问题\n",
    "def get_lines():\n",
    "    l =[]\n",
    "    with open(\"file.txt\",\"rb\") as f:\n",
    "        data=f.readlines(600000)\n",
    "    l.append(data)\n",
    "    yield l\n",
    "\n",
    "if __name__ ==\"__main__\":\n",
    "    for e in get_lines():\n",
    "        process(e)"
   ]
  },
  {
   "cell_type": "code",
   "execution_count": 3,
   "metadata": {
    "collapsed": true
   },
   "outputs": [],
   "source": [
    "#输入日期判断这一天是这一年的第几天\n",
    "import time \n",
    "def dayofyear():\n",
    "    year = input(\"请输入年份:\")\n",
    "    month = input(\"请输入月份:\")\n",
    "    day = input(\"请输入天:\")\n",
    "    date1 = datetime.date(year=int(year),month=int(month),day=int(day))\n",
    "    date2 = datetime.date(year=int(year),month=1,day=1)\n",
    "    return (date1-date2).days+1"
   ]
  },
  {
   "cell_type": "code",
   "execution_count": 4,
   "metadata": {},
   "outputs": [
    {
     "name": "stdout",
     "output_type": "stream",
     "text": [
      "[]\n"
     ]
    }
   ],
   "source": [
    "list = [\"a\",\"b\",\"c\",\"d\",\"e\"]\n",
    "print(list[10:])"
   ]
  },
  {
   "cell_type": "code",
   "execution_count": 6,
   "metadata": {},
   "outputs": [
    {
     "name": "stdout",
     "output_type": "stream",
     "text": [
      "['./python_coding.ipynb', './python实用却不常用的小技巧.ipynb', './创建复杂的机器学习项目.ipynb', './春招苦短百道Python.ipynb', './pyparis-2018-sklearn-master\\\\pyparis-2018-sklearn-master\\\\notebook.ipynb']\n"
     ]
    }
   ],
   "source": [
    "#设计实现遍历目录与子目录，抓取.pyc文件\n",
    "import os\n",
    "def getFiles(dir,suffix):\n",
    "    res = []\n",
    "    for root,dirs,files in os.walk(dir):\n",
    "        for filename in files:\n",
    "            name,suf = os.path.splitext(filename)\n",
    "            if suf == suffix:\n",
    "                res.append(os.path.join(root,filename))\n",
    "                \n",
    "    print(res)\n",
    "    \n",
    "getFiles(\"./\",'.ipynb')"
   ]
  },
  {
   "cell_type": "code",
   "execution_count": 9,
   "metadata": {},
   "outputs": [
    {
     "ename": "StdinNotImplementedError",
     "evalue": "raw_input was called, but this frontend does not support input requests.",
     "traceback": [
      "\u001b[1;31m---------------------------------------------------------------------------\u001b[0m",
      "\u001b[1;31mStdinNotImplementedError\u001b[0m                  Traceback (most recent call last)",
      "\u001b[1;32m<ipython-input-9-09f0b797de57>\u001b[0m in \u001b[0;36m<module>\u001b[1;34m()\u001b[0m\n\u001b[0;32m     17\u001b[0m \u001b[1;33m\u001b[0m\u001b[0m\n\u001b[0;32m     18\u001b[0m \u001b[1;32mif\u001b[0m \u001b[0m__name__\u001b[0m \u001b[1;33m==\u001b[0m \u001b[1;34m\"__main__\"\u001b[0m\u001b[1;33m:\u001b[0m\u001b[1;33m\u001b[0m\u001b[0m\n\u001b[1;32m---> 19\u001b[1;33m     \u001b[0mpath\u001b[0m \u001b[1;33m=\u001b[0m \u001b[0minput\u001b[0m\u001b[1;33m(\u001b[0m\u001b[1;34m\"输入目录\"\u001b[0m\u001b[1;33m)\u001b[0m\u001b[1;33m\u001b[0m\u001b[0m\n\u001b[0m\u001b[0;32m     20\u001b[0m     \u001b[0mscan_path\u001b[0m\u001b[1;33m(\u001b[0m\u001b[0mpath\u001b[0m\u001b[1;33m)\u001b[0m\u001b[1;33m\u001b[0m\u001b[0m\n",
      "\u001b[1;32mD:\\a\\lib\\site-packages\\ipykernel\\kernelbase.py\u001b[0m in \u001b[0;36mraw_input\u001b[1;34m(self, prompt)\u001b[0m\n\u001b[0;32m    698\u001b[0m         \u001b[1;32mif\u001b[0m \u001b[1;32mnot\u001b[0m \u001b[0mself\u001b[0m\u001b[1;33m.\u001b[0m\u001b[0m_allow_stdin\u001b[0m\u001b[1;33m:\u001b[0m\u001b[1;33m\u001b[0m\u001b[0m\n\u001b[0;32m    699\u001b[0m             raise StdinNotImplementedError(\n\u001b[1;32m--> 700\u001b[1;33m                 \u001b[1;34m\"raw_input was called, but this frontend does not support input requests.\"\u001b[0m\u001b[1;33m\u001b[0m\u001b[0m\n\u001b[0m\u001b[0;32m    701\u001b[0m             )\n\u001b[0;32m    702\u001b[0m         return self._input_request(str(prompt),\n",
      "\u001b[1;31mStdinNotImplementedError\u001b[0m: raw_input was called, but this frontend does not support input requests."
     ],
     "output_type": "error"
    }
   ],
   "source": [
    "import os\n",
    "\n",
    "def pick(obj):\n",
    "    try:\n",
    "        if obj[-4:] == \".ipynb\":\n",
    "            print(obj)\n",
    "    except:\n",
    "        return None\n",
    "\n",
    "def scan_path(ph):\n",
    "    file_list = os.listdir(path)\n",
    "    for obj in file_list:\n",
    "        if os.path.isfile(obj):\n",
    "            pick(obj)\n",
    "        elif os.path.isdir(obj):\n",
    "            scan_path(obj)\n",
    "\n",
    "if __name__ == \"__main__\":\n",
    "    path = input(\"输入目录\")\n",
    "    scan_path(path)"
   ]
  },
  {
   "cell_type": "code",
   "execution_count": 12,
   "metadata": {},
   "outputs": [
    {
     "name": "stdout",
     "output_type": "stream",
     "text": [
      "(1, <itertools._grouper object at 0x000000000724AEB8>) (2, <itertools._grouper object at 0x000000000724A048>) (3, <itertools._grouper object at 0x000000000724A160>) (4, <itertools._grouper object at 0x000000000724A2B0>) (5, <itertools._grouper object at 0x000000000724A278>) "
     ]
    }
   ],
   "source": [
    "a = sorted([1,2,1,3,2,1,2,3,4,5])\n",
    "for key ,value in groupby(a):\n",
    "    print((key,value),end=' ')"
   ]
  },
  {
   "cell_type": "code",
   "execution_count": 15,
   "metadata": {
    "collapsed": true
   },
   "outputs": [],
   "source": [
    "# 将字符串 \"k:1 |k1:2|k2:3|k3:4\"，处理成字典 {k:1,k1:2,...}\n",
    "str1 = \"k:1|k1:2|k2:3|k3:4\"\n",
    "def str2dict(str1):\n",
    "    dict1 = {}\n",
    "    for iterms in str1.split('|'):\n",
    "        key,value = iterms.split(':')\n",
    "        dict1[key] = value\n",
    "    return dict1\n",
    "#字典推导式\n",
    "d = {k:int(v) for t in str1.split(\"|\") for k, v in (t.split(\":\"), )}"
   ]
  },
  {
   "cell_type": "code",
   "execution_count": 16,
   "metadata": {
    "collapsed": true
   },
   "outputs": [],
   "source": [
    "# 请按alist中元素的age由大到小排序\n",
    "alist = [{'name':'a','age':20},{'name':'b','age':30},{'name':'c','age':25}]\n",
    "def sort_by_age(list1):\n",
    "    return sorted(alist,key=lambda x:x['age'],reverse=True)"
   ]
  },
  {
   "cell_type": "code",
   "execution_count": 17,
   "metadata": {},
   "outputs": [
    {
     "name": "stdout",
     "output_type": "stream",
     "text": [
      "{3}\n",
      "{1, 2, 4, 5}\n"
     ]
    }
   ],
   "source": [
    "# 给定两个列表，怎么找出他们相同的元素和不同的元素？\n",
    "list1 = [1,2,3]\n",
    "list2 = [3,4,5]\n",
    "set1 = set(list1)\n",
    "set2 = set(list2)\n",
    "print(set1 & set2)\n",
    "print(set1 ^ set2)"
   ]
  },
  {
   "cell_type": "code",
   "execution_count": 18,
   "metadata": {},
   "outputs": [
    {
     "name": "stdout",
     "output_type": "stream",
     "text": [
      "True\n"
     ]
    }
   ],
   "source": [
    "# python如何实现单例模式?请写出两种实现方式?\n",
    "# 第一种方法:使用装饰器\n",
    "def singleton(cls):\n",
    "    instances = {}\n",
    "    def wrapper(*args, **kwargs):\n",
    "        if cls not in instances:\n",
    "            instances[cls] = cls(*args, **kwargs)\n",
    "        return instances[cls]\n",
    "    return wrapper\n",
    "    \n",
    "    \n",
    "@singleton#Foo=singleton(Foo)\n",
    "class Foo(object):\n",
    "    pass\n",
    "foo1 = Foo()\n",
    "foo2 = Foo()\n",
    "print(foo1 is foo2)"
   ]
  },
  {
   "cell_type": "code",
   "execution_count": 21,
   "metadata": {},
   "outputs": [
    {
     "name": "stdout",
     "output_type": "stream",
     "text": [
      "True\n"
     ]
    }
   ],
   "source": [
    "# 第二种方法：使用基类 New 是真正创建实例对象的方法，所以重写基类的new 方法，以此保证创建对象的时候只生成一个实例\n",
    "\n",
    "class Singleton(object):\n",
    "    def __new__(cls, *args, **kwargs):\n",
    "        if not hasattr(cls, '_instance'):\n",
    "            cls._instance = super(Singleton, cls).__new__(cls, *args, **kwargs)\n",
    "        return cls._instance\n",
    "    \n",
    "    \n",
    "class Foo(Singleton):\n",
    "    pass\n",
    "\n",
    "foo1 = Foo()\n",
    "foo2 = Foo()\n",
    "\n",
    "print(foo1 is foo2)"
   ]
  },
  {
   "cell_type": "code",
   "execution_count": 20,
   "metadata": {},
   "outputs": [
    {
     "name": "stdout",
     "output_type": "stream",
     "text": [
      "True\n"
     ]
    }
   ],
   "source": [
    "# 第三种方法：元类，元类是用于创建类对象的类，类对象创建实例对象时一定要调用call方法，\n",
    "# 因此在调用call时候保证始终只创建一个实例即可，type是python的元类\n",
    "\n",
    "class Singleton(type):\n",
    "    def __call__(cls, *args, **kwargs):\n",
    "        if not hasattr(cls, '_instance'):\n",
    "            cls._instance = super(Singleton, cls).__call__(*args, **kwargs)\n",
    "        return cls._instance\n",
    "\n",
    "\n",
    "# Python2\n",
    "class Foo(object):\n",
    "    __metaclass__ = Singleton\n",
    "\n",
    "# Python3\n",
    "class Foo(metaclass=Singleton):\n",
    "    pass\n",
    "\n",
    "foo1 = Foo()\n",
    "foo2 = Foo()\n",
    "print(foo1 is foo2)  # True"
   ]
  },
  {
   "cell_type": "code",
   "execution_count": 24,
   "metadata": {},
   "outputs": [
    {
     "name": "stdout",
     "output_type": "stream",
     "text": [
      "111342344\n",
      "111305096\n",
      "[2, 3, 4, 5, 6, 7, 8]\n",
      "[3, 4, 5, 6, 7, 8]\n",
      "[4, 5, 6, 7, 8]\n",
      "[5, 6, 7, 8]\n",
      "[6, 7, 8]\n",
      "[6, 7, 8]\n",
      "[6, 7, 8]\n",
      "[6, 7, 8]\n",
      "-----------\n",
      "111342344\n"
     ]
    }
   ],
   "source": [
    "# Python-遍历列表时删除元素的正确做法\n",
    "# 遍历在新在列表操作，删除时在原来的列表操作\n",
    "a = [1,2,3,4,5,6,7,8]\n",
    "print(id(a))\n",
    "print(id(a[:]))\n",
    "for i in a[:]:\n",
    "    if i>5:\n",
    "        pass\n",
    "    else:\n",
    "        a.remove(i)\n",
    "    print(a)\n",
    "print('-----------')\n",
    "print(id(a))"
   ]
  },
  {
   "cell_type": "code",
   "execution_count": 25,
   "metadata": {},
   "outputs": [
    {
     "name": "stdout",
     "output_type": "stream",
     "text": [
      "[6, 7, 8]\n"
     ]
    }
   ],
   "source": [
    "a=[1,2,3,4,5,6,7,8]\n",
    "b = filter(lambda x: x>5,a)\n",
    "print(list(b))"
   ]
  },
  {
   "cell_type": "code",
   "execution_count": 26,
   "metadata": {},
   "outputs": [
    {
     "name": "stdout",
     "output_type": "stream",
     "text": [
      "[6, 7, 8]\n"
     ]
    }
   ],
   "source": [
    "a=[1,2,3,4,5,6,7,8]\n",
    "b = [i for i in a if i>5]\n",
    "print(b)"
   ]
  },
  {
   "cell_type": "code",
   "execution_count": 27,
   "metadata": {},
   "outputs": [
    {
     "name": "stdout",
     "output_type": "stream",
     "text": [
      "111123080\n",
      "111123080\n",
      "-----------\n",
      "[6, 7, 8]\n"
     ]
    }
   ],
   "source": [
    "# 倒序删除 因为列表总是‘向前移’，所以可以倒序遍历，即使后面的元素被修改了，还没有被遍历的元素和其坐标还是保持不变的\n",
    "\n",
    "a=[1,2,3,4,5,6,7,8]\n",
    "print(id(a))\n",
    "for i in range(len(a)-1,-1,-1):\n",
    "    if a[i]>5:\n",
    "        pass\n",
    "    else:\n",
    "        a.remove(a[i])\n",
    "print(id(a))\n",
    "print('-----------')\n",
    "print(a)"
   ]
  },
  {
   "cell_type": "code",
   "execution_count": 28,
   "metadata": {},
   "outputs": [
    {
     "name": "stdout",
     "output_type": "stream",
     "text": [
      "abcdefgijklmqrsuvwxz\n"
     ]
    }
   ],
   "source": [
    "def get_missing_letter(a):\n",
    "    s1 = set(\"abcdefghijklmnopqrstuvwxyz\")\n",
    "    s2 = set(a)\n",
    "    ret = \"\".join(sorted(s1-s2))\n",
    "    return ret\n",
    "    \n",
    "print(get_missing_letter(\"python\"))"
   ]
  },
  {
   "cell_type": "markdown",
   "metadata": {},
   "source": [
    "可变类型和不可变类型\n",
    "1,可变类型有list,dict.不可变类型有string，number,tuple.\n",
    "2,当进行修改操作时，可变类型传递的是内存中的地址，也就是说，直接修改内存中的值，并没有开辟新的内存。\n",
    "3,不可变类型被改变时，并没有改变原内存地址中的值，而是开辟一块新的内存，将原地址中的值复制过去，对这块新开辟的内存中的值进行操作。"
   ]
  },
  {
   "cell_type": "markdown",
   "metadata": {},
   "source": [
    "is和==有什么区别？\n",
    "is：比较的是两个对象的id值是否相等，也就是比较俩对象是否为同一个实例对象。是否指向同一个内存地址\n",
    "== ： 比较的两个对象的内容/值是否相等，默认会调用对象的eq()方法"
   ]
  },
  {
   "cell_type": "code",
   "execution_count": 34,
   "metadata": {},
   "outputs": [
    {
     "name": "stdout",
     "output_type": "stream",
     "text": [
      "10254\n",
      "10254\n"
     ]
    }
   ],
   "source": [
    "# 用一行python代码写出1+2+3+10248\n",
    "from functools import reduce\n",
    "#1.使用sum内置求和函数\n",
    "num = sum([1,2,3,10248])\n",
    "print(num)\n",
    "#2.reduce 函数\n",
    "num1 = reduce(lambda x,y :x+y,[1,2,3,10248])\n",
    "print(num1)"
   ]
  },
  {
   "cell_type": "markdown",
   "metadata": {},
   "source": [
    "# Python中变量的作用域？（变量查找顺序)\n",
    "# 函数作用域的LEGB顺序\n",
    "\n",
    "1.什么是LEGB?\n",
    "\n",
    "L： local 函数内部作用域\n",
    "\n",
    "E: enclosing 函数内部与内嵌函数之间\n",
    "\n",
    "G: global 全局作用域\n",
    "\n",
    "B： build-in 内置作用\n",
    "\n",
    "python在函数里面的查找分为4种，称之为LEGB，也正是按照这是顺序来查找的"
   ]
  },
  {
   "cell_type": "code",
   "execution_count": 5,
   "metadata": {},
   "outputs": [
    {
     "name": "stdout",
     "output_type": "stream",
     "text": [
      "2\n4\n4\n"
     ]
    }
   ],
   "source": [
    "x = 1\n",
    "y = 1\n",
    "num1 = eval(\"x+y\")\n",
    "print (num1)\n",
    "def g(): \n",
    "    x = 2\n",
    "    y = 2\n",
    "    num3 = eval(\"x+y\") \n",
    "    print (num3)  \n",
    "    num2 = eval(\"x+y\",globals()) \n",
    "    num2 = eval(\"x+y\",globals(),locals()) \n",
    "    print (num2)\n",
    "   \n",
    "g()"
   ]
  },
  {
   "cell_type": "code",
   "execution_count": 6,
   "metadata": {
    "collapsed": true
   },
   "outputs": [
    {
     "data": {
      "text/plain": [
       "123"
      ]
     },
     "execution_count": 6,
     "metadata": {},
     "output_type": "execute_result"
    }
   ],
   "source": [
    "# 字符串 \"123\" 转换成 123，不使用内置api，例如 int()\n",
    "def atoi(s):\n",
    "    num = 0\n",
    "    for v in s:\n",
    "        for j in range(10):\n",
    "            if v == str(j):\n",
    "                num = num * 10 + j\n",
    "    return num\n",
    "atoi('123')"
   ]
  },
  {
   "cell_type": "code",
   "execution_count": 10,
   "metadata": {
    "collapsed": true
   },
   "outputs": [
    {
     "data": {
      "text/plain": [
       "123"
      ]
     },
     "execution_count": 10,
     "metadata": {},
     "output_type": "execute_result"
    }
   ],
   "source": [
    "# 利用eval函数\n",
    "def atoi(s):\n",
    "    num = 0\n",
    "    for v in s:\n",
    "        # t = \"%s * 1\" % v\n",
    "        n = eval(v)\n",
    "        num = num * 10 + n\n",
    "    return num\n",
    "atoi('123')"
   ]
  },
  {
   "cell_type": "code",
   "execution_count": null,
   "metadata": {
    "collapsed": true
   },
   "outputs": [],
   "source": [
    "# 给定一个整数数组和一个目标值，找出数组中和为目标值的两个数。你可以假设每个输入只对应一种答案，且同样的元素不能被重复利用。\n",
    "# 示例:给定nums = [2,7,11,15],target=9 因为 nums[0]+nums[1] = 2+7 =9,所以返回[0,1]\n",
    "class Solution:\n",
    "    def twoSum(self,nums,target):\n",
    "        \"\"\"\n",
    "        :type nums: List[int]\n",
    "        :type target: int\n",
    "        :rtype: List[int]\n",
    "        \"\"\"\n",
    "        d = {}\n",
    "        size = 0\n",
    "        while size < len(nums):\n",
    "            if target-nums[size] in d:\n",
    "                if d[target-nums[size]] <size:\n",
    "                    return [d[target-nums[size]],size]\n",
    "                else:\n",
    "                    d[nums[size]] = size\n",
    "                size = size +1\n",
    "solution = Solution()\n",
    "list = [2,7,11,15]\n",
    "target = 9\n",
    "nums = solution.twoSum(list,target)\n",
    "print(nums)"
   ]
  },
  {
   "cell_type": "code",
   "execution_count": 12,
   "metadata": {
    "collapsed": true
   },
   "outputs": [
    {
     "name": "stdout",
     "output_type": "stream",
     "text": [
      "[{'name': 'b', 'age': 30}, {'name': 'c', 'age': 25}, {'name': 'a', 'age': 20}]\n"
     ]
    }
   ],
   "source": [
    "alist=[{\"name\":\"a\",\"age\":20},{\"name\":\"b\",\"age\":30},{\"name\":\"c\",\"age\":25}]\n",
    "alist_sort = sorted(alist,key=lambda e: e.__getitem__('age'),reverse=True)\n",
    "print(alist_sort)"
   ]
  },
  {
   "cell_type": "code",
   "execution_count": 14,
   "metadata": {
    "collapsed": true
   },
   "outputs": [
    {
     "name": "stdout",
     "output_type": "stream",
     "text": [
      "[1, 2, 4, 5, 7, 10, 8, 9, 0, 3]\n"
     ]
    }
   ],
   "source": [
    "a = [1,2,4,2,4,5,7,10,5,5,7,8,9,0,3]\n",
    "b = {}\n",
    "b = b.fromkeys(a)\n",
    "c = list(b.keys())\n",
    "print(c)\n",
    "\n"
   ]
  },
  {
   "cell_type": "code",
   "execution_count": null,
   "metadata": {},
   "outputs": [],
   "source": [
    "# 统计一个文本中单词频次最高的10个单词？\n",
    "import re\n",
    "\n",
    "# 方法一\n",
    "def test(filepath):\n",
    "    \n",
    "    distone = {}\n",
    "\n",
    "    with open(filepath) as f:\n",
    "        for line in f:\n",
    "            line = re.sub(\"\\W+\", \" \", line)\n",
    "            lineone = line.split()\n",
    "            for keyone in lineone:\n",
    "                if not distone.get(keyone):\n",
    "                    distone[keyone] = 1\n",
    "                else:\n",
    "                    distone[keyone] += 1\n",
    "    num_ten = sorted(distone.items(), key=lambda x:x[1], reverse=True)[:10]\n",
    "    num_ten =[x[0] for x in num_ten]\n",
    "    return num_ten\n",
    "    \n",
    " \n",
    "# 方法二 \n",
    "# 使用 built-in 的 Counter 里面的 most_common\n",
    "import re\n",
    "from collections import Counter\n",
    "\n",
    "\n",
    "def test2(filepath):\n",
    "    with open(filepath) as f:\n",
    "        return list(map(lambda c: c[0], Counter(re.sub(\"\\W+\", \" \", f.read()).split()).most_common(10)))"
   ]
  },
  {
   "cell_type": "code",
   "execution_count": 17,
   "metadata": {},
   "outputs": [
    {
     "data": {
      "text/plain": [
       "[1, 2, 1, 6, 2, 9, 8]"
      ]
     },
     "execution_count": 17,
     "metadata": {},
     "output_type": "execute_result"
    }
   ],
   "source": [
    "# 两个有序列表，l1,l2，对这两个列表进行合并不可使用extend\n",
    "def loop_merge_sort(l1,l2):\n",
    "    tmp = []\n",
    "    while len(l1)>0 and len(l2)>0:\n",
    "        if l1[0] <l2[0]:\n",
    "            tmp.append(l1[0])\n",
    "            del l1[0]\n",
    "        else:\n",
    "            tmp.append(l2[0])\n",
    "            del l2[0]\n",
    "    while len(l1)>0:\n",
    "        tmp.append(l1[0])\n",
    "        del l1[0]\n",
    "    while len(l2)>0:\n",
    "        tmp.append(l2[0])\n",
    "        del l2[0]\n",
    "    return tmp\n",
    "\n",
    "loop_merge_sort([1,6,2],[2,1,9,8])"
   ]
  },
  {
   "cell_type": "code",
   "execution_count": null,
   "metadata": {},
   "outputs": [],
   "source": [
    "# 让所有奇数都在偶数前面，而且奇数升序排列，偶数降序排序，如字符串'1982376455',变成'1355798642'\n",
    "\n",
    "# 方法一\n",
    "def func1(l):\n",
    "    if isinstance(l, str):\n",
    "        l = [int(i) for i in l]\n",
    "    l.sort(reverse=True)\n",
    "    for i in range(len(l)):\n",
    "        if l[i] % 2 > 0:\n",
    "            l.insert(0, l.pop(i))\n",
    "    print(''.join(str(e) for e in l))\n",
    "\n",
    "# 方法二\n",
    "def func2(l):\n",
    "    print(\"\".join(sorted(l, key=lambda x: int(x) % 2 == 0 and 20 - int(x) or int(x))))"
   ]
  },
  {
   "cell_type": "code",
   "execution_count": null,
   "metadata": {},
   "outputs": [],
   "source": [
    "# 写一个函数找出一个整数数组中，第二大的数\n",
    "def find_second_large_num(num_list):\n",
    "    \"\"\"\n",
    "    找出数组第2大的数字\n",
    "    \"\"\"\n",
    "    # 方法一\n",
    "    # 直接排序，输出倒数第二个数即可\n",
    "    tmp_list = sorted(num_list)\n",
    "    print(\"方法一\\nSecond_large_num is :\", tmp_list[-2])\n",
    "    \n",
    "    # 方法二\n",
    "    # 设置两个标志位一个存储最大数一个存储次大数\n",
    "    # two 存储次大值，one 存储最大值，遍历一次数组即可，先判断是否大于 one，若大于将 one 的值给 two，将 num_list[i] 的值给 one，否则比较是否大于two，若大于直接将 num_list[i] 的值给two，否则pass\n",
    "    one = num_list[0]\n",
    "    two = num_list[0]\n",
    "    for i in range(1, len(num_list)):\n",
    "        if num_list[i] > one:\n",
    "            two = one\n",
    "            one = num_list[i]\n",
    "        elif num_list[i] > two:\n",
    "            two = num_list[i]\n",
    "    print(\"方法二\\nSecond_large_num is :\", two)\n",
    "    \n",
    "    # 方法三\n",
    "    # 用 reduce 与逻辑符号 (and, or)\n",
    "    # 基本思路与方法二一样，但是不需要用 if 进行判断。\n",
    "    from functools import reduce\n",
    "    num = reduce(lambda ot, x: ot[1] < x and (ot[1], x) or ot[0] < x and (x, ot[1]) or ot, num_list, (0, 0))[0]\n",
    "    print(\"方法三\\nSecond_large_num is :\", num)\n",
    "    \n",
    "    \n",
    "if __name__ == '__main___':\n",
    "    num_list = [34, 11, 23, 56, 78, 0, 9, 12, 3, 7, 5]\n",
    "    find_second_large_num(num_list)"
   ]
  },
  {
   "cell_type": "code",
   "execution_count": 24,
   "metadata": {},
   "outputs": [
    {
     "name": "stdout",
     "output_type": "stream",
     "text": [
      "[9, 9, 9, 9]\n"
     ]
    }
   ],
   "source": [
    "def multi():\n",
    "    return [lambda x : i*x for i in range(4)]\n",
    "print([m(3) for m in multi()])\n",
    "# 产生的原因是Python的闭包的后期绑定导致的，这意味着在闭包中的变量是在内部函数被调用的时候被查找的，\n",
    "# 因为，最后函数被调用的时候，for循环已经完成, i 的值最后是3,因此每一个返回值的i都是3"
   ]
  },
  {
   "cell_type": "code",
   "execution_count": 23,
   "metadata": {},
   "outputs": [
    {
     "name": "stdout",
     "output_type": "stream",
     "text": [
      "[0, 3, 6, 9]\n"
     ]
    }
   ],
   "source": [
    "def m(x):\n",
    "    def multi():\n",
    "        return [i*x for i in range(4)]\n",
    "    return multi\n",
    "\n",
    "t=m(3)\n",
    "print(t())"
   ]
  },
  {
   "cell_type": "code",
   "execution_count": 31,
   "metadata": {},
   "outputs": [
    {
     "name": "stdout",
     "output_type": "stream",
     "text": [
      "{'A': 4, 'B': 2, 'C': 3}\nA4B2C3\nA4C3B2\n[('A', 4), ('C', 3), ('B', 2)]\n[{'A': 4}, {'C': 3}, {'B': 2}]\n"
     ]
    }
   ],
   "source": [
    "# 统计一段字符串中字符出现的次数\n",
    "# 方法一\n",
    "def count_str(str_data):\n",
    "    \"\"\"定义一个字符出现次数的函数\"\"\"\n",
    "    dict_str = {} \n",
    "    for i in str_data:\n",
    "        dict_str[i] = dict_str.get(i, 0) + 1\n",
    "    return dict_str\n",
    "dict_str = count_str(\"AAABBCCAC\")\n",
    "print(dict_str)\n",
    "str_count_data = \"\"\n",
    "for k, v in dict_str.items():\n",
    "    str_count_data += k + str(v)\n",
    "print(str_count_data)\n",
    "\n",
    "# 方法二\n",
    "from collections import Counter\n",
    "\n",
    "print(\"\".join(map(lambda x: x[0] + str(x[1]), Counter(\"AAABBCCAC\").most_common())))\n",
    "print(Counter(\"AAABBCCAC\").most_common())\n",
    "i=map(lambda x :{x[0]:x[1]},Counter(\"AAABBCCAC\").most_common())\n",
    "print(list(i))"
   ]
  },
  {
   "cell_type": "code",
   "execution_count": 32,
   "metadata": {},
   "outputs": [
    {
     "name": "stdout",
     "output_type": "stream",
     "text": [
      "宝马\n['__class__', '__delattr__', '__dict__', '__dir__', '__doc__', '__eq__', '__format__', '__ge__', '__getattribute__', '__gt__', '__hash__', '__init__', '__init_subclass__', '__le__', '__lt__', '__module__', '__ne__', '__new__', '__reduce__', '__reduce_ex__', '__repr__', '__setattr__', '__sizeof__', '__str__', '__subclasshook__', '__weakref__', 'getLoss', 'getName', 'getPrice', 'loss', 'name']\n"
     ]
    }
   ],
   "source": [
    "# 遍历一个object的所有属性，并print每一个属性名？\n",
    "class Car:\n",
    "    def __init__(self,name,loss): # loss [价格，油耗，公里数]\n",
    "        self.name = name\n",
    "        self.loss = loss\n",
    "    \n",
    "    def getName(self):\n",
    "        return self.name\n",
    "    \n",
    "    def getPrice(self):\n",
    "        # 获取汽车价格\n",
    "        return self.loss[0]\n",
    "    \n",
    "    def getLoss(self):\n",
    "        # 获取汽车损耗值\n",
    "        return self.loss[1] * self.loss[2]\n",
    "\n",
    "Bmw = Car(\"宝马\",[60,9,500]) # 实例化一个宝马车对象\n",
    "print(getattr(Bmw,\"name\")) # 使用getattr()传入对象名字,属性值。\n",
    "print(dir(Bmw)) # 获Bmw所有的属性和方法"
   ]
  },
  {
   "cell_type": "code",
   "execution_count": 36,
   "metadata": {},
   "outputs": [
    {
     "name": "stdout",
     "output_type": "stream",
     "text": [
      "Hello Labryant, 2019 Happy\n"
     ]
    }
   ],
   "source": [
    "import datetime\n",
    "\n",
    "\n",
    "class TimeException(Exception):\n",
    "    def __init__(self, exception_info):\n",
    "        super().__init__()\n",
    "        self.info = exception_info\n",
    "\n",
    "    def __str__(self):\n",
    "        return self.info\n",
    "\n",
    "\n",
    "def timecheck(func):\n",
    "    def wrapper(*args, **kwargs):\n",
    "        if datetime.datetime.now().year == 2019:\n",
    "            func(*args, **kwargs)\n",
    "        else:\n",
    "            raise TimeException(\"函数已过时\")\n",
    "\n",
    "    return wrapper\n",
    "\n",
    "\n",
    "@timecheck\n",
    "def test(name):\n",
    "    print(\"Hello {}, 2019 Happy\".format(name))\n",
    "test('Labryant')"
   ]
  },
  {
   "cell_type": "code",
   "execution_count": 37,
   "metadata": {},
   "outputs": [
    {
     "name": "stdout",
     "output_type": "stream",
     "text": [
      "通过认证\n开始执行附加功能\n开始执行函数\n"
     ]
    }
   ],
   "source": [
    "# 带定长参数的装饰器\n",
    "def new_func(func):\n",
    "    def wrappedfun(username, passwd):\n",
    "        if username == 'root' and passwd == '123456789':\n",
    "            print('通过认证')\n",
    "            print('开始执行附加功能')\n",
    "            return func()\n",
    "       \telse:\n",
    "            print('用户名或密码错误')\n",
    "            return\n",
    "    return wrappedfun\n",
    "\n",
    "@new_func#orign=new_func(orign)\n",
    "def origin():\n",
    "    print('开始执行函数')\n",
    "origin('root','123456789')#wrappedfun('root','123456789')"
   ]
  },
  {
   "cell_type": "code",
   "execution_count": 39,
   "metadata": {},
   "outputs": [],
   "source": [
    "# 带不定长参数的装饰器\n",
    "\n",
    "def new_func(func):\n",
    "    def wrappedfun(*parts):\n",
    "        if parts:\n",
    "            counts = len(parts)\n",
    "            print('本系统包含 ', end='')\n",
    "            for part in parts:\n",
    "                print(part, ' ',end='')\n",
    "            print('等', counts, '部分')\n",
    "            return func()\n",
    "        else:\n",
    "            print('用户名或密码错误')\n",
    "            return func()\n",
    "    return wrappedfun"
   ]
  },
  {
   "cell_type": "code",
   "execution_count": 40,
   "metadata": {},
   "outputs": [
    {
     "name": "stdout",
     "output_type": "stream",
     "text": [
      "[10]\n"
     ]
    }
   ],
   "source": [
    "a = 10\n",
    "b = 20\n",
    "c = [a]\n",
    "a = 15\n",
    "print(c)"
   ]
  },
  {
   "cell_type": "code",
   "execution_count": 41,
   "metadata": {},
   "outputs": [
    {
     "name": "stdout",
     "output_type": "stream",
     "text": [
      "False\n"
     ]
    }
   ],
   "source": [
    "# hasattr(object,name)函数:\n",
    "\n",
    "# 判断一个对象里面是否有name属性或者name方法，返回bool值，有name属性（方法）返回True，否则返回False。\n",
    "\n",
    "class function_demo(object):\n",
    "    name = 'demo'\n",
    "    def run(self):\n",
    "        return \"hello function\"\n",
    "functiondemo = function_demo()\n",
    "res = hasattr(functiondemo, \"name\") # 判断对象是否有name属性，True\n",
    "res = hasattr(functiondemo, \"run\") # 判断对象是否有run方法，True\n",
    "res = hasattr(functiondemo, \"age\") # 判断对象是否有age属性，False\n",
    "print(res)"
   ]
  },
  {
   "cell_type": "code",
   "execution_count": 45,
   "metadata": {},
   "outputs": [
    {
     "data": {
      "text/plain": [
       "18"
      ]
     },
     "execution_count": 45,
     "metadata": {},
     "output_type": "execute_result"
    }
   ],
   "source": [
    "functiondemo = function_demo()\n",
    "getattr(functiondemo, \"name\")# 获取name属性，存在就打印出来 --- demo\n",
    "getattr(functiondemo, \"run\") # 获取run 方法，存在打印出方法的内存地址\n",
    "# getattr(functiondemo, \"age\") # 获取不存在的属性，报错\n",
    "getattr(functiondemo, \"age\", 18)# 获取不存在的属性，返回一个默认值"
   ]
  },
  {
   "cell_type": "code",
   "execution_count": 46,
   "metadata": {},
   "outputs": [
    {
     "name": "stdout",
     "output_type": "stream",
     "text": [
      "False\n"
     ]
    }
   ],
   "source": [
    "class function_demo(object):\n",
    "    name = \"demo\"\n",
    "    def run(self):\n",
    "        return \"hello function\"\n",
    "functiondemo = function_demo()\n",
    "res = hasattr(functiondemo, \"age\") # 判断age属性是否存在，False\n",
    "print(res)\n",
    "setattr(functiondemo, \"age\", 18) # 对age属性进行赋值，无返回值\n",
    "res1 = hasattr(functiondemo, \"age\") # 再次判断属性是否存在，True"
   ]
  },
  {
   "cell_type": "code",
   "execution_count": 47,
   "metadata": {},
   "outputs": [
    {
     "name": "stdout",
     "output_type": "stream",
     "text": [
      "北京首都\n"
     ]
    }
   ],
   "source": [
    "class function_demo(object):\n",
    "    name = \"demo\"\n",
    "    def run(self):\n",
    "        return \"hello function\"\n",
    "functiondemo = function_demo()\n",
    "res = hasattr(functiondemo, \"addr\") # 先判断是否存在\n",
    "if res:\n",
    "    addr = getattr(functiondemo, \"addr\")\n",
    "    print(addr)\n",
    "else:\n",
    "    addr = getattr(functiondemo, \"addr\", setattr(functiondemo, \"addr\", \"北京首都\"))\n",
    "    print(addr)"
   ]
  },
  {
   "cell_type": "code",
   "execution_count": 49,
   "metadata": {},
   "outputs": [
    {
     "ename": "NameError",
     "evalue": "name 'reduce' is not defined",
     "traceback": [
      "\u001b[1;31m---------------------------------------------------------------------------\u001b[0m",
      "\u001b[1;31mNameError\u001b[0m                                 Traceback (most recent call last)",
      "\u001b[1;32m<ipython-input-49-dc41eaa6b8e8>\u001b[0m in \u001b[0;36m<module>\u001b[1;34m()\u001b[0m\n\u001b[0;32m      1\u001b[0m \u001b[1;31m# 一句话解决阶乘函数？\u001b[0m\u001b[1;33m\u001b[0m\u001b[1;33m\u001b[0m\u001b[0m\n\u001b[1;32m----> 2\u001b[1;33m \u001b[0mreduce\u001b[0m\u001b[1;33m(\u001b[0m\u001b[1;32mlambda\u001b[0m \u001b[0mx\u001b[0m\u001b[1;33m,\u001b[0m\u001b[0my\u001b[0m \u001b[1;33m:\u001b[0m \u001b[0mx\u001b[0m\u001b[1;33m*\u001b[0m\u001b[0my\u001b[0m\u001b[1;33m,\u001b[0m\u001b[0mrange\u001b[0m\u001b[1;33m(\u001b[0m\u001b[1;36m1\u001b[0m\u001b[1;33m,\u001b[0m\u001b[0mn\u001b[0m\u001b[1;33m+\u001b[0m\u001b[1;36m1\u001b[0m\u001b[1;33m)\u001b[0m\u001b[1;33m)\u001b[0m\u001b[1;33m\u001b[0m\u001b[0m\n\u001b[0m",
      "\u001b[1;31mNameError\u001b[0m: name 'reduce' is not defined"
     ],
     "output_type": "error"
    }
   ],
   "source": [
    "# 一句话解决阶乘函数？\n",
    "reduce(lambda x,y : x*y,range(1,n+1))"
   ]
  },
  {
   "cell_type": "code",
   "execution_count": 58,
   "metadata": {},
   "outputs": [
    {
     "name": "stdout",
     "output_type": "stream",
     "text": [
      "[[1, 2, 3], [4, 5, 6], [7, 8, 9], [10, 11, 12], [13, 14, 15], [16, 17, 18], [19, 20, 21], [22, 23, 24], [25, 26, 27], [28, 29, 30], [31, 32, 33], [34, 35, 36], [37, 38, 39], [40, 41, 42], [43, 44, 45], [46, 47, 48], [49, 50, 51], [52, 53, 54], [55, 56, 57], [58, 59, 60], [61, 62, 63], [64, 65, 66], [67, 68, 69], [70, 71, 72], [73, 74, 75], [76, 77, 78], [79, 80, 81], [82, 83, 84], [85, 86, 87], [88, 89, 90], [91, 92, 93], [94, 95, 96], [97, 98, 99], []]\n"
     ]
    }
   ],
   "source": [
    "N =100\n",
    "print ([[x for x in range(1,100)] [i:i+3] for i in range(0,100,3)])"
   ]
  },
  {
   "cell_type": "code",
   "execution_count": 63,
   "metadata": {},
   "outputs": [
    {
     "name": "stdout",
     "output_type": "stream",
     "text": [
      "10\n"
     ]
    }
   ],
   "source": [
    "# 面向对象中怎么实现只读属性?\n",
    "# 将对象私有化，通过共有方法提供一个读取数据的接口\n",
    "\n",
    "class person:\n",
    "    def __init__(self, x):\n",
    "        self.__age = 10\n",
    "    def age(self):\n",
    "        return self.__age\n",
    "t = person(22)\n",
    "# t.__age =100\n",
    "print(t.age())\n",
    "# 最好的方法\n",
    "\n",
    "class MyCls(object):\n",
    "    __weight = 50\n",
    "    \n",
    "    @property\n",
    "    def weight(self):\n",
    "        return self.__weight"
   ]
  },
  {
   "cell_type": "code",
   "execution_count": null,
   "metadata": {},
   "outputs": [],
   "source": []
  }
 ],
 "metadata": {
  "kernelspec": {
   "display_name": "Python 3",
   "language": "python",
   "name": "python3"
  },
  "language_info": {
   "codemirror_mode": {
    "name": "ipython",
    "version": 3
   },
   "file_extension": ".py",
   "mimetype": "text/x-python",
   "name": "python",
   "nbconvert_exporter": "python",
   "pygments_lexer": "ipython3",
   "version": "3.6.3"
  }
 },
 "nbformat": 4,
 "nbformat_minor": 1
}
